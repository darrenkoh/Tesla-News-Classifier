{
 "cells": [
  {
   "cell_type": "code",
   "execution_count": 92,
   "metadata": {},
   "outputs": [],
   "source": [
    "import requests\n",
    "import time\n",
    "import json\n",
    "import unicodedata\n",
    "import re\n",
    "from bs4 import BeautifulSoup\n",
    "from tqdm import tqdm\n",
    "from os import path"
   ]
  },
  {
   "cell_type": "code",
   "execution_count": 3,
   "metadata": {},
   "outputs": [],
   "source": [
    "# Some global variables\n",
    "catalog_filename = 'foxnews_catalog.json'\n",
    "news_filename = 'foxnes_news.json'\n",
    "url_foxnews_base = 'https://www.foxnews.com'"
   ]
  },
  {
   "cell_type": "code",
   "execution_count": 3,
   "metadata": {},
   "outputs": [],
   "source": [
    "# Utility functions\n",
    "def FilterCatalogs(current: set(), new: []) -> []:\n",
    "    output = []\n",
    "    for n in new:\n",
    "        if url_foxnews_base + n['url'] not in current:\n",
    "            output.append(n)\n",
    "    return output"
   ]
  },
  {
   "cell_type": "markdown",
   "metadata": {},
   "source": [
    "### Crawl the Foxnews side for Tesla specific news"
   ]
  },
  {
   "cell_type": "code",
   "execution_count": 7,
   "metadata": {},
   "outputs": [
    {
     "name": "stderr",
     "output_type": "stream",
     "text": [
      "  0%|               | 0/1000 [00:00<?, ?it/s]"
     ]
    },
    {
     "name": "stdout",
     "output_type": "stream",
     "text": [
      "There is no more news to add, coz latest downloaded news are already in the catalogs\n",
      "Last iteration: 0 (query: {'isTag': 'true', 'searchSelected': 'fox-news/auto/make/tesla', 'size': 30, 'offset': 0})\n"
     ]
    },
    {
     "name": "stderr",
     "output_type": "stream",
     "text": [
      "\n"
     ]
    }
   ],
   "source": [
    "# Load Existing Catalogs\n",
    "catalog = None\n",
    "catalogUrls = set()\n",
    "with open(catalog_filename, 'r') as infile:\n",
    "    catalog = json.load(infile)\n",
    "    catalogUrls = set([url_foxnews_base+c['url'] for c in catalog])\n",
    "\n",
    "url_foxnews = 'https://www.foxnews.com/api/article-search'\n",
    "query = {\n",
    "    \"isTag\" : 'true',\n",
    "    \"searchSelected\" : \"fox-news/auto/make/tesla\",\n",
    "    \"size\": 30,\n",
    "    \"offset\" : 0\n",
    "}\n",
    "\n",
    "for x in tqdm(range(0,1000), ncols=45):\n",
    "    query['offset'] = x * 30\n",
    "    r = requests.get(url_foxnews, params=query)\n",
    "    if r.status_code == 200:\n",
    "        if r.text != '[]':\n",
    "            response = r.json()\n",
    "            newCatalogs = FilterCatalogs(catalogUrls, response)\n",
    "            if len(newCatalogs) > 0:\n",
    "                catalog.extend(r.json())\n",
    "            else:\n",
    "                print(\"There is no more news to add, coz latest downloaded news are already in the catalogs\")\n",
    "                print(f\"Last iteration: {x} (query: {query})\")\n",
    "                break\n",
    "        else:\n",
    "            print(f\"Got blank response at iteration {x*30}\")\n",
    "            break\n",
    "    time.sleep(10)"
   ]
  },
  {
   "cell_type": "code",
   "execution_count": 19,
   "metadata": {},
   "outputs": [],
   "source": [
    "# Save the catalog\n",
    "with open(catalog_filename, 'w') as outfile:\n",
    "    json.dump(catalog, outfile, indent=4)"
   ]
  },
  {
   "cell_type": "markdown",
   "metadata": {},
   "source": [
    "### Retrieve the text content from the foxnews catalog"
   ]
  },
  {
   "cell_type": "code",
   "execution_count": 89,
   "metadata": {},
   "outputs": [],
   "source": [
    "# Utility functions\n",
    "def SanitizerAdWords(content: str) -> str:\n",
    "    content = content.lower()\n",
    "    for a in ad_words:\n",
    "        content = content.replace(a,'')\n",
    "    return content\n",
    "\n",
    "def SanitizerHtml(content: str) -> str:\n",
    "    temp = unicodedata.normalize(\"NFKD\",content.rstrip('.').strip()) + '.'\n",
    "    output = re.sub(u\"(\\u2018|\\u2019)\", \"'\", temp)\n",
    "    output = re.sub(u\"(\\u2013|\\u2014)\", \"-\", output)\n",
    "    output = re.sub(u\"(\\u201c|\\u201d)\", '\"', output)\n",
    "    return output\n",
    "    \n",
    "# Remove unrelated content - specific to fox news\n",
    "def SanitizerNonArticleTags(tag: bs4.element.Tag):\n",
    "    featured = tag.find(attrs={\"class\":\"featured featured-video video-ct\"})\n",
    "    if featured:\n",
    "        featured.decompose()\n",
    "\n",
    "def GetContent(url: str) -> str:\n",
    "    content = None\n",
    "    r = requests.get(url)\n",
    "    if r.status_code == 200:\n",
    "        html = BeautifulSoup(r.text, 'html.parser')\n",
    "        article_title = html.find(attrs={\"class\": \"headline\"}).text\n",
    "        article_body = html.find(attrs={\"class\": \"article-body\"})\n",
    "        SanitizerNonArticleTags(article_body)\n",
    "        content = article_title + '. ' + ' '.join([SanitizerHtml(x.text) for x in article_body.find_all('p')])\n",
    "        content = SanitizerAdWords(content)        \n",
    "        content = unicodedata.normalize(\"NFKD\",content)\n",
    "    return content"
   ]
  },
  {
   "cell_type": "code",
   "execution_count": 94,
   "metadata": {},
   "outputs": [],
   "source": [
    "# Load the catalog for retrieving the news content \n",
    "catalog = None\n",
    "with open(catalog_filename, 'r') as infile:\n",
    "    catalog = json.load(infile)\n",
    "    \n",
    "# Load the current news\n",
    "news = []\n",
    "if path.exists(news_filename):\n",
    "    with open(news_filename, 'r') as infile:\n",
    "        news = json.load(infile)\n",
    "    \n",
    "# Ads Words that we want to remove from the news content\n",
    "ad_words = None\n",
    "with open('ad_words.txt', 'r') as infile:\n",
    "    ad_words = [line.rstrip('\\n') for line in infile.readlines()]"
   ]
  },
  {
   "cell_type": "code",
   "execution_count": 97,
   "metadata": {},
   "outputs": [
    {
     "data": {
      "text/plain": [
       "0"
      ]
     },
     "execution_count": 97,
     "metadata": {},
     "output_type": "execute_result"
    }
   ],
   "source": [
    "# news = []\n",
    "# news_urlcache = set()"
   ]
  },
  {
   "cell_type": "code",
   "execution_count": 91,
   "metadata": {
    "collapsed": true,
    "jupyter": {
     "outputs_hidden": true
    },
    "tags": []
   },
   "outputs": [
    {
     "name": "stdout",
     "output_type": "stream",
     "text": [
      "spacex’s first astronaut launch breaking ground with new look: ‘it is really neat’. the first astronauts launched by spacex are breaking new ground for style by unveiling hip spacesuits, gull-wing teslas and even a sleek rocketship with a black and white trim. the color coordination is credited to elon musk, the driving force behind spacex and tesla who is also a science fiction fan. nasa astronauts doug hurley and bob behnken approved the \"fresh new look,\" the associated press reported on monday. the pair will catch a ride to the launch pad in a tesla model x electric car. \"it is really neat, and i think the biggest testament to that is my 10-year-old son telling me how cool i am now,\" hurley told the outlet. the 53-year-old noted \"spacex has gone all out\" on the capsule's appearance. tulsa unveils gigantic elon musk statue to help lure tesla to town. this undated photo made available by spacex shows nasa astronaut bob behnken in his spacesuit at spacex headquarters in hawthorne, calif. on wednesday, may 27, 2020, behnken and doug hurley are scheduled to board a spacex dragon capsule atop a spacex falcon 9 rocket and, equipment and weather permitting, shoot into space. it will be the first astronaut launch from nasa's kennedy space center since the last shuttle flight in 2011. \n",
      "      (spacex via ap). 'matrix' creator calls out elon musk, ivanka trump for quoting the movie on twitter. \"and they've worked equally as hard to make the innards and the displays and everything else in the vehicle work to perfection,\" hurley added. according to the outlet, hurley and behnken will climb aboard a spacex dragon capsule atop a spacex falcon 9 rocket on wednesday, and both equipment and weather permitting, shoot into space. the move will mark the first astronaut launch from nasa's kennedy space center since the last shuttle flight in 2011. it will also mark the first attempt by a private company to send astronauts into orbit. only governments in russia, the u.s., and china have done so. spacex also shared the historic send-off deserves to look good. musk, 48, named his rocket after the \"star wars\" millennium falcon. the capsule name stems from \"puff the magic dragon,\" a jab from the tech entrepreneur aiming at his doubters when he first started spacex in 2002. and style wasn't ignored in the launch. spacex designed and built its own custom-fit suits. elon musk lists 5 more homes for $97 million as he tries to sell most possessions. in this friday, jan. 17, 2020 photo made available by nasa, astronauts doug hurley, left, and robert behnken pose in front of a tesla model x car during a spacex launch dress rehearsal at kennedy space center in cape canaveral, fla. the nasa astronauts rode to the pad in the electric vehicle made by elon musk's company.\n",
      "      (kim shiflett/nasa via ap). elon musk's victory in fight to reopen tesla factory an 'inspiration': tammy bruce. \"it's important that the suits are comfortable and also are inspiring,\" said spacex's mission director benji reed. \"but above all, it's designed to keep the crew safe,\" he shared. but the signature bulky, orange ascent and entry suits worn by shuttle astronauts have their own allure, insisted behnken, 49. both he and hurley wore them for his two previous missions. hollywood has also relied on the orange suits for movies like \"armageddon\" and \"space cowboys.\". on launch day, hurley and behnken will get ready inside kennedy's remodeled crew quarters, which dates back to the two-man gemini missions of the mid-1960s. spacex techs will also help the astronauts into their one-piece, two-layer pressure suits. the men will also emerge through the same double doors previously used on july 16, 1969, by apollo 11's neil armstrong, buzz aldrin and michael collins. the operations and checkout building bear armstrong's name. judge pens letter to elon musk urging him to move tesla from california to south texas. this thursday, march 19, 2020 photo made available by spacex shows nasa astronauts bob behnken and doug hurley during flight simulator testing at the kennedy space center in cape canaveral, fla., with spacex teams in firing room 4 at nasa's kennedy space center, spacex's mission control in hawthorne, calif., and nasa flight controllers in mission control houston, for a full simulation of launch and docking of the crew dragon spacecraft.\n",
      "      (spacex via ap). gwyneth paltrow jokes elon musk, grimes 'beat' her and chris martin for 'most controversial baby name'. instead of the traditional astrovan, the two will climb into the back seat of a tesla model x for the nine-mile ride to launch complex 39a, also known as the same pad used by the moonmen and most shuttle crews. it's while they board the tesla that they'll see their wives and young sons for the last time before the flight. making a comeback after three decades is nasa's worm logo - wavy, futuristic-looking red letters spelling nasa, the \"a\" resembling rocket nose cones. the worm adorns the astro-tesla, falcon and even the astronauts' suits, along with nasa's original blue meatball-shaped logo. the white-suited hurley and behnken will transfer from the white tesla to the white dragon atop the equally white falcon 9. \"it's going to be quite a show,\" said reed. the associated press contributed to this report.\n"
     ]
    }
   ],
   "source": [
    "url = 'https://www.foxnews.com/science/spacexs-first-astronaut-launch-breaking-ground'\n",
    "print(GetContent(url))"
   ]
  },
  {
   "cell_type": "code",
   "execution_count": 98,
   "metadata": {},
   "outputs": [
    {
     "name": "stderr",
     "output_type": "stream",
     "text": [
      "100%|████████████████████████████████████████████████████████████████████████████████| 409/409 [03:40<00:00,  1.85it/s]\n"
     ]
    }
   ],
   "source": [
    "news_urlcache = set([n['url'] for n in news])\n",
    "for inx in tqdm(range(len(catalog))):\n",
    "    url = url_foxnews_base + catalog[inx]['url']\n",
    "    if url not in news_urlcache:\n",
    "        #print('new url not in cache {url}')\n",
    "        content = GetContent(url)\n",
    "        news.append({'url': url, 'body':content, 'sentiment': ''})"
   ]
  },
  {
   "cell_type": "code",
   "execution_count": 99,
   "metadata": {},
   "outputs": [],
   "source": [
    "#Save the news \n",
    "with open(news_filename, 'w') as outfile:\n",
    "    json.dump(news, outfile, indent=4)"
   ]
  },
  {
   "cell_type": "code",
   "execution_count": 79,
   "metadata": {},
   "outputs": [
    {
     "data": {
      "text/plain": [
       "[{'url': 'https://www.foxnews.com/auto/teslas-bizarre-swipe-to-drive-gear-selector',\n",
       "  'body': 'tesla\\'s bizarre swipe-to-drive gear selector revealed in video. with a bulletproof body and 500-mile battery-powered range, tesla\\'s electric pickup isn\\'t like every other truck. the first video of tesla\\'s new on-screen \"gear\" selector system in operation has appeared on twitter. elon musk previously announced the feature, which is debuting on the updated model s and model x vehicles that were revealed in january. twitter user michael hsu posted the clip which shows a driver swiping a car icon in the top left corner of the screen to choose forward and reverse. hsu would not confirm to fox news autos the source of the video, or whether it was a customer or tesla employee demonstrating the system. a separate image posted by @nickhoward shows that neutral is engaged by a separate icon on the screen. drive, reverse and neutral can also be selected using a knob on the steering wheel, but there\\'s apparently a third method that\\'s truly next-level. according to musk, the cars can guess which way you want to go and select the direction of travel without any input at all. . (note: most electric cars, like teslas, don\\'t technically use gears or transmissions, but the terms remain in use when describing their operation.). the model s and x are also being advertised with a yoke-style steering wheel, but according to a redditor who claims to have been in the new model s, they are currently being shipped with a traditional round wheel until nhtsa approves the yoke, at which time owners will be able to get it retrofitted into their new cars. tesla has not officially confirmed the status of the wheel.',\n",
       "  'sentiment': ''}]"
      ]
     },
     "execution_count": 79,
     "metadata": {},
     "output_type": "execute_result"
    }
   ],
   "source": []
  },
  {
   "cell_type": "code",
   "execution_count": null,
   "metadata": {},
   "outputs": [],
   "source": []
  }
 ],
 "metadata": {
  "kernelspec": {
   "display_name": "Python 3",
   "language": "python",
   "name": "python3"
  },
  "language_info": {
   "codemirror_mode": {
    "name": "ipython",
    "version": 3
   },
   "file_extension": ".py",
   "mimetype": "text/x-python",
   "name": "python",
   "nbconvert_exporter": "python",
   "pygments_lexer": "ipython3",
   "version": "3.8.2"
  }
 },
 "nbformat": 4,
 "nbformat_minor": 4
}
