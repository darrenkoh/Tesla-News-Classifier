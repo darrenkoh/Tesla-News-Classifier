{
 "cells": [
  {
   "cell_type": "code",
   "execution_count": 112,
   "metadata": {},
   "outputs": [],
   "source": [
    "import requests\n",
    "import time\n",
    "import json\n",
    "import scrapy\n",
    "import unicodedata\n",
    "from bs4 import BeautifulSoup\n",
    "from tqdm import tqdm"
   ]
  },
  {
   "cell_type": "code",
   "execution_count": 162,
   "metadata": {},
   "outputs": [],
   "source": [
    "# Some global variables\n",
    "catalog_filename = 'foxnews_catalog.json'\n",
    "news_filename = 'foxnes_news.json'"
   ]
  },
  {
   "cell_type": "markdown",
   "metadata": {},
   "source": [
    "### Crawl the Foxnews side for Tesla specific news"
   ]
  },
  {
   "cell_type": "code",
   "execution_count": 32,
   "metadata": {},
   "outputs": [
    {
     "name": "stderr",
     "output_type": "stream",
     "text": [
      "  1%|██                                                                                                                                               | 14/1000 [00:12<15:10,  1.08it/s]"
     ]
    },
    {
     "name": "stdout",
     "output_type": "stream",
     "text": [
      "Got blank response at iteration 420\n"
     ]
    },
    {
     "name": "stderr",
     "output_type": "stream",
     "text": [
      "\n"
     ]
    }
   ],
   "source": [
    "url_foxnews = 'https://www.foxnews.com/api/article-search'\n",
    "query = {\n",
    "    \"isTag\" : 'true',\n",
    "    \"searchSelected\" : \"fox-news/auto/make/tesla\",\n",
    "    \"size\": 30,\n",
    "    \"offset\" : 0\n",
    "}\n",
    "\n",
    "catalog = []\n",
    "for x in tqdm(range(0,1000), ncols=45):\n",
    "    query['offset'] = x * 30\n",
    "    r = requests.get(url_foxnews, params=query)\n",
    "    if r.status_code == 200:\n",
    "        if r.text != '[]':\n",
    "            catalog.extend(r.json())\n",
    "        else:\n",
    "            print(f\"Got blank response at iteration {x*30}\")\n",
    "            break\n",
    "    time.sleep(0.5)"
   ]
  },
  {
   "cell_type": "code",
   "execution_count": 37,
   "metadata": {},
   "outputs": [],
   "source": [
    "with open(catalog_filename, 'w') as outfile:\n",
    "    json.dump(catalog, outfile, indent=4)"
   ]
  },
  {
   "cell_type": "markdown",
   "metadata": {},
   "source": [
    "### Retrieve the text content from the foxnews catalog"
   ]
  },
  {
   "cell_type": "code",
   "execution_count": 81,
   "metadata": {},
   "outputs": [],
   "source": [
    "url_foxnews_base = 'https://www.foxnews.com'\n",
    "with open(catalog_filename, 'r') as infile:\n",
    "    catalog = json.load(infile)\n",
    "    \n",
    "# Ads Words\n",
    "ad_words = None\n",
    "with open('ad_words.txt', 'r') as infile:\n",
    "    ad_words = [line.rstrip('\\n') for line in infile.readlines()]"
   ]
  },
  {
   "cell_type": "code",
   "execution_count": 160,
   "metadata": {},
   "outputs": [],
   "source": [
    "# sanitizer\n",
    "def SanitizerAdWords(content: str) -> str:\n",
    "    content = content.lower()\n",
    "    for a in ad_words:\n",
    "        content = content.replace(a,'')\n",
    "    return content\n",
    "\n",
    "def SanitizerHtml(content: str) -> str:\n",
    "    return unicodedata.normalize(\"NFKD\",content.rstrip('.').strip()) + '.'\n",
    "\n",
    "def GetContent(url: str) -> str:\n",
    "    content = None\n",
    "    r = requests.get(url)\n",
    "    if r.status_code == 200:\n",
    "        html = BeautifulSoup(r.text, 'html.parser')\n",
    "        article_title = html.find(attrs={\"class\": \"headline\"}).text\n",
    "        article_body = html.find(attrs={\"class\": \"article-body\"})    \n",
    "        content = article_title + '.' + ' '.join([SanitizerHtml(x.text) for x in article_body.find_all('p')])\n",
    "        content = SanitizerAdWords(content)\n",
    "        content = unicodedata.normalize(\"NFKD\",content)\n",
    "    return content"
   ]
  },
  {
   "cell_type": "code",
   "execution_count": 161,
   "metadata": {},
   "outputs": [
    {
     "name": "stderr",
     "output_type": "stream",
     "text": [
      "100%|████████████████████████████████████████████████████████████████████████████████| 409/409 [03:08<00:00,  2.17it/s]\n"
     ]
    }
   ],
   "source": [
    "news = []\n",
    "for inx in tqdm(range(len(catalog))):\n",
    "    url = url_foxnews_base + catalog[inx]['url']\n",
    "    content = GetContent(url)\n",
    "    news.append({'url': url, 'body':content, 'sentiment': ''})   "
   ]
  },
  {
   "cell_type": "code",
   "execution_count": 163,
   "metadata": {},
   "outputs": [],
   "source": [
    "with open(news_filename, 'w') as outfile:\n",
    "    json.dump(news, outfile, indent=4)"
   ]
  },
  {
   "cell_type": "code",
   "execution_count": 158,
   "metadata": {},
   "outputs": [
    {
     "name": "stdout",
     "output_type": "stream",
     "text": [
      "tesla's bizarre swipe-to-drive gear selector revealed in video.with a bulletproof body and 500-mile battery-powered range, tesla's electric pickup isn't like every other truck. the first video of tesla's new on-screen \"gear\" selector system in operation has appeared on twitter. elon musk previously announced the feature, which is debuting on the updated model s and model x vehicles that were revealed in january. twitter user michael hsu posted the clip which shows a driver swiping a car icon in the top left corner of the screen to choose forward and reverse. hsu would not confirm to fox news autos the source of the video, or whether it was a customer or tesla employee demonstrating the system. a separate image posted by @nickhoward shows that neutral is engaged by a separate icon on the screen. drive, reverse and neutral can also be selected using a knob on the steering wheel, but there's apparently a third method that's truly next-level. according to musk, the cars can guess which way you want to go and select the direction of travel without any input at all. . (note: most electric cars, like teslas, don't technically use gears or transmissions, but the terms remain in use when describing their operation.). the model s and x are also being advertised with a yoke-style steering wheel, but according to a redditor who claims to have been in the new model s, they are currently being shipped with a traditional round wheel until nhtsa approves the yoke, at which time owners will be able to get it retrofitted into their new cars. tesla has not officially confirmed the status of the wheel.\n"
     ]
    }
   ],
   "source": [
    "print(news[0]['body'])"
   ]
  },
  {
   "cell_type": "code",
   "execution_count": 96,
   "metadata": {},
   "outputs": [
    {
     "name": "stdout",
     "output_type": "stream",
     "text": [
      "https://www.foxnews.com/auto/teslas-bizarre-swipe-to-drive-gear-selector\n",
      "https://www.foxnews.com/auto/tesla-cancels-full-self-driving-expansion-update\n",
      "https://www.foxnews.com/auto/tesla-autopilot-michigan-state-police-car\n",
      "https://www.foxnews.com/auto/detroit-police-tesla-autopilot-semi-crash\n",
      "https://www.foxnews.com/auto/nhtsa-investigating-violent-tesla-crash-semi\n",
      "https://www.foxnews.com/auto/tesla-fires-self-driving-testers-camera\n"
     ]
    }
   ],
   "source": [
    "max = 5\n",
    "for c in catalog:\n",
    "    print(url_foxnews_base + c['url'])\n",
    "    if max == 0:\n",
    "        break\n",
    "    max -= 1"
   ]
  },
  {
   "cell_type": "code",
   "execution_count": null,
   "metadata": {},
   "outputs": [],
   "source": []
  }
 ],
 "metadata": {
  "kernelspec": {
   "display_name": "Python 3.8 (tesla_classifier)",
   "language": "python",
   "name": "tesla_classifier"
  },
  "language_info": {
   "codemirror_mode": {
    "name": "ipython",
    "version": 3
   },
   "file_extension": ".py",
   "mimetype": "text/x-python",
   "name": "python",
   "nbconvert_exporter": "python",
   "pygments_lexer": "ipython3",
   "version": "3.8.2"
  }
 },
 "nbformat": 4,
 "nbformat_minor": 4
}
