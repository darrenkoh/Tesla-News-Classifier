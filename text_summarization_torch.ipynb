{
 "cells": [
  {
   "cell_type": "code",
   "execution_count": 1,
   "id": "ff797ac7",
   "metadata": {
    "tags": []
   },
   "outputs": [],
   "source": [
    "import torch\n",
    "import json\n",
    "import pandas as pd\n",
    "import numpy as np\n",
    "from tqdm import tqdm\n",
    "from sklearn.model_selection import train_test_split\n",
    "device = 'cuda' if torch.cuda.is_available() else 'cpu'"
   ]
  },
  {
   "cell_type": "code",
   "execution_count": 2,
   "id": "699e85b4-bd46-4d9a-9e3b-1c9c2e8263fb",
   "metadata": {},
   "outputs": [],
   "source": [
    "# Bart Model\n",
    "from transformers import BartTokenizer, BartForConditionalGeneration, BartConfig\n",
    "model = BartForConditionalGeneration.from_pretrained('facebook/bart-large-cnn').to(device)\n",
    "tokenizer = BartTokenizer.from_pretrained('facebook/bart-large-cnn')"
   ]
  },
  {
   "cell_type": "code",
   "execution_count": 3,
   "id": "a0edf949-3a5a-472b-b7ba-0bd740ceb4ee",
   "metadata": {
    "tags": []
   },
   "outputs": [
    {
     "name": "stderr",
     "output_type": "stream",
     "text": [
      "100%|█████████████████████████████████████████████████████████████| 414/414 [36:15<00:00,  5.25s/it]\n"
     ]
    }
   ],
   "source": [
    "df = pd.read_json('foxnews_news_cleaned.json')\n",
    "\n",
    "# Generate in small batches else running out of memory on GTX 1080Ti :(\n",
    "summary = []\n",
    "with torch.no_grad():\n",
    "    for x in tqdm(range(0,df.shape[0]), ncols=100):\n",
    "        batch = tokenizer(df.body.loc[x], truncation=True, padding='longest', return_tensors=\"pt\").to(device)\n",
    "        translated = model.generate(**batch)\n",
    "        summary.append(tokenizer.decode(translated, skip_special_tokens=True))\n",
    "        #print(summary[-1])\n",
    "df['summary'] = summary"
   ]
  },
  {
   "cell_type": "code",
   "execution_count": 20,
   "id": "8aa3e4c8",
   "metadata": {
    "tags": []
   },
   "outputs": [
    {
     "data": {
      "text/plain": [
       "The tesla driver told officers he had used the autopilot. The system could not have prevented the crash because the bus swerved into the tesLA driver lane while the tedla was next to the bus, the company said. teslas updated the. autopilot software this month following a deadly crash in may.                               1\n",
       "Some tesla model 3 owners and reservation holders are blowing up reddit threads accusing the automaker of pulling a bait and switch with pricey trim package. The $5,000 premium upgrade option is being delivered with a woven textile material in place of the suede-like alcantara headliner depicted in promotional images.    1\n",
       "Name: summary, dtype: int64"
      ]
     },
     "execution_count": 20,
     "metadata": {},
     "output_type": "execute_result"
    }
   ],
   "source": [
    "df.summary.value_counts().nlargest(2)"
   ]
  },
  {
   "cell_type": "code",
   "execution_count": 21,
   "id": "f048361a",
   "metadata": {
    "tags": []
   },
   "outputs": [],
   "source": [
    "# Save the cleaned data\n",
    "parsed = json.loads(df.to_json(orient='records', force_ascii=False, indent=4))\n",
    "with open('foxnews_news_cleaned_summary.json', 'w', encoding='utf-8') as f:\n",
    "    json.dump(parsed, f, indent=4)"
   ]
  },
  {
   "cell_type": "code",
   "execution_count": 22,
   "id": "f7f2f582",
   "metadata": {
    "collapsed": true,
    "jupyter": {
     "outputs_hidden": true
    },
    "tags": []
   },
   "outputs": [
    {
     "data": {
      "text/html": [
       "<div>\n",
       "<style scoped>\n",
       "    .dataframe tbody tr th:only-of-type {\n",
       "        vertical-align: middle;\n",
       "    }\n",
       "\n",
       "    .dataframe tbody tr th {\n",
       "        vertical-align: top;\n",
       "    }\n",
       "\n",
       "    .dataframe thead th {\n",
       "        text-align: right;\n",
       "    }\n",
       "</style>\n",
       "<table border=\"1\" class=\"dataframe\">\n",
       "  <thead>\n",
       "    <tr style=\"text-align: right;\">\n",
       "      <th></th>\n",
       "      <th>url</th>\n",
       "      <th>body</th>\n",
       "      <th>sentiment</th>\n",
       "      <th>authorUrl</th>\n",
       "      <th>authorName</th>\n",
       "      <th>title</th>\n",
       "      <th>summary</th>\n",
       "    </tr>\n",
       "  </thead>\n",
       "  <tbody>\n",
       "    <tr>\n",
       "      <th>0</th>\n",
       "      <td>https://www.foxnews.com/auto/teslas-bizarre-sw...</td>\n",
       "      <td>the first video of tesla new on-screen gear se...</td>\n",
       "      <td>neutral</td>\n",
       "      <td>/person/g/gary-gastelu</td>\n",
       "      <td>Gary Gastelu</td>\n",
       "      <td>tesla's bizarre swipe-to-drive gear selector r...</td>\n",
       "      <td>Twitter user michael hsu posted the clip which...</td>\n",
       "    </tr>\n",
       "    <tr>\n",
       "      <th>1</th>\n",
       "      <td>https://www.foxnews.com/auto/tesla-cancels-ful...</td>\n",
       "      <td>tesla has canceled a planned expansion of its ...</td>\n",
       "      <td>negative</td>\n",
       "      <td>/person/g/gary-gastelu</td>\n",
       "      <td>Gary Gastelu</td>\n",
       "      <td>tesla cancels full self-driving expansion ahea...</td>\n",
       "      <td>tesla has canceled a planned expansion of its ...</td>\n",
       "    </tr>\n",
       "    <tr>\n",
       "      <th>2</th>\n",
       "      <td>https://www.foxnews.com/auto/tesla-autopilot-m...</td>\n",
       "      <td>a tesla driver with a suspended license using ...</td>\n",
       "      <td>negative</td>\n",
       "      <td>/person/g/gary-gastelu</td>\n",
       "      <td>Gary Gastelu</td>\n",
       "      <td>tesla set on autopilot slams into michigan sta...</td>\n",
       "      <td>The 22-year-old driver was cited with violatin...</td>\n",
       "    </tr>\n",
       "    <tr>\n",
       "      <th>3</th>\n",
       "      <td>https://www.foxnews.com/auto/detroit-police-te...</td>\n",
       "      <td>detroit police investigating an accident invol...</td>\n",
       "      <td>neutral</td>\n",
       "      <td>/person/g/gary-gastelu</td>\n",
       "      <td>Gary Gastelu</td>\n",
       "      <td>detroit police don't think tesla was on autopi...</td>\n",
       "      <td>A tesla model y got lodged under a semi-truck ...</td>\n",
       "    </tr>\n",
       "    <tr>\n",
       "      <th>4</th>\n",
       "      <td>https://www.foxnews.com/auto/nhtsa-investigati...</td>\n",
       "      <td>the u.s. government highway safety agency is s...</td>\n",
       "      <td>negative</td>\n",
       "      <td>http://www.ap.org/</td>\n",
       "      <td>Associated Press</td>\n",
       "      <td>nhtsa investigating 'violent' tesla crash into...</td>\n",
       "      <td>Two people were critically injured in the cras...</td>\n",
       "    </tr>\n",
       "    <tr>\n",
       "      <th>...</th>\n",
       "      <td>...</td>\n",
       "      <td>...</td>\n",
       "      <td>...</td>\n",
       "      <td>...</td>\n",
       "      <td>...</td>\n",
       "      <td>...</td>\n",
       "      <td>...</td>\n",
       "    </tr>\n",
       "    <tr>\n",
       "      <th>409</th>\n",
       "      <td>https://www.foxnews.com/auto/5-cars-you-might-...</td>\n",
       "      <td>gmc hummer ev chief engineer al oppenheiser j...</td>\n",
       "      <td>positive</td>\n",
       "      <td>Gary Gastelu</td>\n",
       "      <td>/person/g/gary-gastelu</td>\n",
       "      <td>5 vehicles you might not want to buy new (and ...</td>\n",
       "      <td>The bmw 5 series saw a reduction of 38.4%, or ...</td>\n",
       "    </tr>\n",
       "    <tr>\n",
       "      <th>410</th>\n",
       "      <td>https://www.foxnews.com/auto/tesla-testing-ram...</td>\n",
       "      <td>the 2021 ram 1500 trx is the most powerful pi...</td>\n",
       "      <td>positive</td>\n",
       "      <td>Gary Gastelu</td>\n",
       "      <td>/person/g/gary-gastelu</td>\n",
       "      <td>tesla spotted testing ram 1500 trx high perfor...</td>\n",
       "      <td>Video of tesla fremont factory complex shot by...</td>\n",
       "    </tr>\n",
       "    <tr>\n",
       "      <th>411</th>\n",
       "      <td>https://www.foxnews.com/auto/consumer-reports-...</td>\n",
       "      <td>the 2021 cadillac escalade is available with ...</td>\n",
       "      <td>negative</td>\n",
       "      <td>Gary Gastelu</td>\n",
       "      <td>/person/g/gary-gastelu</td>\n",
       "      <td>consumer reports test shows how tesla's autopi...</td>\n",
       "      <td>Consumer reports senior director of auto testi...</td>\n",
       "    </tr>\n",
       "    <tr>\n",
       "      <th>412</th>\n",
       "      <td>https://www.foxnews.com/entertainment/elon-mus...</td>\n",
       "      <td>reaction and analysis from trace gallagher, t...</td>\n",
       "      <td>neutral</td>\n",
       "      <td>Brie Stimson</td>\n",
       "      <td>/person/s/brie-stimson</td>\n",
       "      <td>elon musk hosts 'snl,' jokes about space, cars...</td>\n",
       "      <td>The 49-year-old south africa-born billionaire ...</td>\n",
       "    </tr>\n",
       "    <tr>\n",
       "      <th>413</th>\n",
       "      <td>https://www.foxnews.com/entertainment/elon-mus...</td>\n",
       "      <td>fox news flash top entertainment and celebrit...</td>\n",
       "      <td>neutral</td>\n",
       "      <td>Nate Day</td>\n",
       "      <td>/person/d/nate-day</td>\n",
       "      <td>elon musk's first 'snl' promo says he's 'a wil...</td>\n",
       "      <td>elon musk is hosting saturday night live this...</td>\n",
       "    </tr>\n",
       "  </tbody>\n",
       "</table>\n",
       "<p>414 rows × 7 columns</p>\n",
       "</div>"
      ],
      "text/plain": [
       "                                                   url  \\\n",
       "0    https://www.foxnews.com/auto/teslas-bizarre-sw...   \n",
       "1    https://www.foxnews.com/auto/tesla-cancels-ful...   \n",
       "2    https://www.foxnews.com/auto/tesla-autopilot-m...   \n",
       "3    https://www.foxnews.com/auto/detroit-police-te...   \n",
       "4    https://www.foxnews.com/auto/nhtsa-investigati...   \n",
       "..                                                 ...   \n",
       "409  https://www.foxnews.com/auto/5-cars-you-might-...   \n",
       "410  https://www.foxnews.com/auto/tesla-testing-ram...   \n",
       "411  https://www.foxnews.com/auto/consumer-reports-...   \n",
       "412  https://www.foxnews.com/entertainment/elon-mus...   \n",
       "413  https://www.foxnews.com/entertainment/elon-mus...   \n",
       "\n",
       "                                                  body sentiment  \\\n",
       "0    the first video of tesla new on-screen gear se...   neutral   \n",
       "1    tesla has canceled a planned expansion of its ...  negative   \n",
       "2    a tesla driver with a suspended license using ...  negative   \n",
       "3    detroit police investigating an accident invol...   neutral   \n",
       "4    the u.s. government highway safety agency is s...  negative   \n",
       "..                                                 ...       ...   \n",
       "409   gmc hummer ev chief engineer al oppenheiser j...  positive   \n",
       "410   the 2021 ram 1500 trx is the most powerful pi...  positive   \n",
       "411   the 2021 cadillac escalade is available with ...  negative   \n",
       "412   reaction and analysis from trace gallagher, t...   neutral   \n",
       "413   fox news flash top entertainment and celebrit...   neutral   \n",
       "\n",
       "                  authorUrl              authorName  \\\n",
       "0    /person/g/gary-gastelu            Gary Gastelu   \n",
       "1    /person/g/gary-gastelu            Gary Gastelu   \n",
       "2    /person/g/gary-gastelu            Gary Gastelu   \n",
       "3    /person/g/gary-gastelu            Gary Gastelu   \n",
       "4        http://www.ap.org/        Associated Press   \n",
       "..                      ...                     ...   \n",
       "409            Gary Gastelu  /person/g/gary-gastelu   \n",
       "410            Gary Gastelu  /person/g/gary-gastelu   \n",
       "411            Gary Gastelu  /person/g/gary-gastelu   \n",
       "412            Brie Stimson  /person/s/brie-stimson   \n",
       "413                Nate Day      /person/d/nate-day   \n",
       "\n",
       "                                                 title  \\\n",
       "0    tesla's bizarre swipe-to-drive gear selector r...   \n",
       "1    tesla cancels full self-driving expansion ahea...   \n",
       "2    tesla set on autopilot slams into michigan sta...   \n",
       "3    detroit police don't think tesla was on autopi...   \n",
       "4    nhtsa investigating 'violent' tesla crash into...   \n",
       "..                                                 ...   \n",
       "409  5 vehicles you might not want to buy new (and ...   \n",
       "410  tesla spotted testing ram 1500 trx high perfor...   \n",
       "411  consumer reports test shows how tesla's autopi...   \n",
       "412  elon musk hosts 'snl,' jokes about space, cars...   \n",
       "413  elon musk's first 'snl' promo says he's 'a wil...   \n",
       "\n",
       "                                               summary  \n",
       "0    Twitter user michael hsu posted the clip which...  \n",
       "1    tesla has canceled a planned expansion of its ...  \n",
       "2    The 22-year-old driver was cited with violatin...  \n",
       "3    A tesla model y got lodged under a semi-truck ...  \n",
       "4    Two people were critically injured in the cras...  \n",
       "..                                                 ...  \n",
       "409  The bmw 5 series saw a reduction of 38.4%, or ...  \n",
       "410  Video of tesla fremont factory complex shot by...  \n",
       "411  Consumer reports senior director of auto testi...  \n",
       "412  The 49-year-old south africa-born billionaire ...  \n",
       "413   elon musk is hosting saturday night live this...  \n",
       "\n",
       "[414 rows x 7 columns]"
      ]
     },
     "execution_count": 22,
     "metadata": {},
     "output_type": "execute_result"
    }
   ],
   "source": [
    "df = pd.read_json('foxnews_news_cleaned_summary.json')\n",
    "df"
   ]
  },
  {
   "cell_type": "code",
   "execution_count": 27,
   "id": "0a98f885",
   "metadata": {},
   "outputs": [],
   "source": [
    "# Split to training/test set\n",
    "df = pd.read_json('foxnews_news_cleaned_summary.json')\n",
    "df = df.loc[df['sentiment'] != 'NA', ['title', 'summary', 'sentiment']]\n",
    "label = {'neutral':0,'positive':1,'negative':2}\n",
    "df['labels'] = df['sentiment'].map(label)\n",
    "\n",
    "# Split the train/test set\n",
    "train, test = train_test_split(df[['title', 'summary', 'sentiment', 'labels']], test_size=0.2, random_state=12, shuffle=True)\n",
    "train.columns = ['title','summary','sentiment', 'labels']\n",
    "test.columns = ['title','sumamry','sentiment', 'labels']\n",
    "train.to_csv('data/train.csv', sep=',', index=False)\n",
    "test.to_csv('data/test.csv', sep=',', index=False)"
   ]
  },
  {
   "cell_type": "code",
   "execution_count": null,
   "id": "7427d6b9-a64b-45ad-a8fe-e452b37f5428",
   "metadata": {},
   "outputs": [],
   "source": []
  }
 ],
 "metadata": {
  "kernelspec": {
   "display_name": "Python 3",
   "language": "python",
   "name": "python3"
  },
  "language_info": {
   "codemirror_mode": {
    "name": "ipython",
    "version": 3
   },
   "file_extension": ".py",
   "mimetype": "text/x-python",
   "name": "python",
   "nbconvert_exporter": "python",
   "pygments_lexer": "ipython3",
   "version": "3.8.2"
  }
 },
 "nbformat": 4,
 "nbformat_minor": 5
}
