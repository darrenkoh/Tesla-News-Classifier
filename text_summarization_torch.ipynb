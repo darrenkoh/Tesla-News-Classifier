{
 "cells": [
  {
   "cell_type": "code",
   "execution_count": 2,
   "id": "ff797ac7",
   "metadata": {
    "tags": []
   },
   "outputs": [],
   "source": [
    "import torch\n",
    "import json\n",
    "import pandas as pd\n",
    "import numpy as np\n",
    "from tqdm import tqdm\n",
    "from sklearn.model_selection import train_test_split\n",
    "#from transformers import PegasusForConditionalGeneration, PegasusTokenizer\n",
    "from transformers import BigBirdPegasusForConditionalGeneration, AutoTokenizer\n",
    "from transformers import pipeline"
   ]
  },
  {
   "cell_type": "code",
   "execution_count": 3,
   "id": "a0edf949-3a5a-472b-b7ba-0bd740ceb4ee",
   "metadata": {},
   "outputs": [
    {
     "name": "stdout",
     "output_type": "stream",
     "text": [
      "['<s> tesla has a new on-screen driving assistance system called \" advanced driver assistance system ( ass ) \" that can select forward and reverse. in the video below,<n> a tesla driver demonstrates the system.<n> the video shows the system s ability to guess which way the owner wants to go and select the direction of travel without any input from the car.</s>']\n"
     ]
    }
   ],
   "source": [
    "df = pd.read_json('foxnews_news_cleaned.json')\n",
    "from transformers import BigBirdPegasusForConditionalGeneration, AutoTokenizer\n",
    "\n",
    "tokenizer = AutoTokenizer.from_pretrained(\"google/bigbird-pegasus-large-pubmed\")\n",
    "\n",
    "# by default encoder-attention is `block_sparse` with num_random_blocks=3, block_size=64\n",
    "#model = BigBirdPegasusForConditionalGeneration.from_pretrained(\"google/bigbird-pegasus-large-pubmed\")\n",
    "\n",
    "# decoder attention type can't be changed & will be \"original_full\"\n",
    "# you can change `attention_type` (encoder only) to full attention like this:\n",
    "#model = BigBirdPegasusForConditionalGeneration.from_pretrained(\"google/bigbird-pegasus-large-pubmed\", attention_type=\"original_full\")\n",
    "\n",
    "# you can change `block_size` & `num_random_blocks` like this:\n",
    "model = BigBirdPegasusForConditionalGeneration.from_pretrained(\"google/bigbird-pegasus-large-pubmed\", block_size=16, num_random_blocks=2)\n",
    "\n",
    "text = df.body.loc[0]\n",
    "inputs = tokenizer(text, return_tensors='pt', padding=True)\n",
    "prediction = model.generate(**inputs)\n",
    "prediction = tokenizer.batch_decode(prediction)\n",
    "print(prediction)"
   ]
  },
  {
   "cell_type": "code",
   "execution_count": 13,
   "id": "cd54e6b7-87ac-4793-a602-8a196dcfb2c6",
   "metadata": {},
   "outputs": [
    {
     "name": "stdout",
     "output_type": "stream",
     "text": [
      "neutral     0.572464\n",
      "negative    0.236715\n",
      "positive    0.185990\n",
      "NA          0.004831\n",
      "Name: sentiment, dtype: float64\n"
     ]
    },
    {
     "name": "stderr",
     "output_type": "stream",
     "text": [
      "Attention type 'block_sparse' is not possible if sequence_length: 285 <= num global tokens: 2 * config.block_size + min. num sliding tokens: 3 * config.block_size + config.num_random_blocks * config.block_size + additional buffer: config.num_random_blocks * config.block_size = 704 with config.block_size = 64, config.num_random_blocks = 3.Changing attention type to 'original_full'...\n"
     ]
    },
    {
     "name": "stdout",
     "output_type": "stream",
     "text": [
      "[{'summary_text': 'the first video of tesla new on-screen gear selector system in operation has appeared on twitter . elon musk previously announced the feature , which is debuting on the updated model s and model x vehicles that were revealed in january . twitter user michael hsu posted the clip which shows a driver swiping a car icon in the top left corner of the screen to choose forward and reverse .'}]\n"
     ]
    }
   ],
   "source": [
    "df = pd.read_json('foxnews_news_cleaned.json')\n",
    "print(df.sentiment.value_counts(normalize=True))\n",
    "summarizer = pipeline('summarization', model=\"google/bigbird-pegasus-large-pubmed\", device=0)\n",
    "abstract = summarizer(df.body.loc[0])\n",
    "print(abstract)"
   ]
  },
  {
   "cell_type": "code",
   "execution_count": null,
   "id": "752df291-9964-42d6-aac0-52eb8d734fb8",
   "metadata": {},
   "outputs": [],
   "source": [
    "from transformers import AutoModelWithLMHead, AutoTokenizer\n",
    "model = AutoModelWithLMHead.from_pretrained(\"google/pegasus-cnn_dailymail\")\n",
    "tokenizer = AutoTokenizer.from_pretrained(\"google/pegasus-cnn_dailymail\")\n",
    "# T5 uses a max_length of 512 so we cut the article to 512 tokens.\n",
    "inputs = tokenizer.encode(\"summarize: \" + ARTICLE, return_tensors=\"pt\", max_length=512)\n",
    "outputs = model.generate(inputs, max_length=150, min_length=40, length_penalty=2.0, num_beams=4, early_stopping=True)"
   ]
  },
  {
   "cell_type": "code",
   "execution_count": 8,
   "id": "b2b86791",
   "metadata": {},
   "outputs": [
    {
     "name": "stdout",
     "output_type": "stream",
     "text": [
      "neutral     0.572464\n",
      "negative    0.236715\n",
      "positive    0.185990\n",
      "NA          0.004831\n",
      "Name: sentiment, dtype: float64\n"
     ]
    },
    {
     "name": "stderr",
     "output_type": "stream",
     "text": [
      "Attention type 'block_sparse' is not possible if sequence_length: 285 <= num global tokens: 2 * config.block_size + min. num sliding tokens: 3 * config.block_size + config.num_random_blocks * config.block_size + additional buffer: config.num_random_blocks * config.block_size = 704 with config.block_size = 64, config.num_random_blocks = 3.Changing attention type to 'original_full'...\n"
     ]
    },
    {
     "name": "stdout",
     "output_type": "stream",
     "text": [
      "[{'summary_text': 'the first demonstrating video of the new on-screen gear selector feature of the tesla has appeared on twitter . in the video , a driver swipes a car icon in the top left corner of the screen to choose forward and reverse , and neutral can also be selected using a knob on the steering wheel , but there apparently a third method that truly next-level . according to musk , the cars can guess which way you want to go and select the direction of travel without any input at all the model s and x are also being advertised with yoke-style steering wheel , but according to a redditor who claims to have been in the new model s , they are currently being shipped with a traditional round wheel until nhtsa approves the yoke , at which time owners will be able to get it retrofitted into their new cars .'}]\n"
     ]
    }
   ],
   "source": [
    "df = pd.read_json('foxnews_news_cleaned.json')\n",
    "print(df.sentiment.value_counts(normalize=True))\n",
    "summarizer = pipeline('summarization', model=\"google/bigbird-pegasus-large-arxiv\", device=0)\n",
    "abstract = summarizer(df.body.loc[0:2].tolist(), truncation='longest_first')\n",
    "print(abstract)"
   ]
  },
  {
   "cell_type": "code",
   "execution_count": 6,
   "id": "927775d4-d6fa-4abc-a5db-7f261db3d29e",
   "metadata": {},
   "outputs": [
    {
     "data": {
      "text/plain": [
       "['tesla bizarre swipe-to-drive gear selector revealed in video. the first video of tesla new on-screen gear selector system in operation has appeared on twitter. elon musk previously announced the feature, which is debuting on the updated model s and model x vehicles that were revealed in january. twitter user michael hsu posted the clip which shows a driver swiping a car icon in the top left corner of the screen to choose forward and reverse. hsu would not confirm to fox news autos the source of the video, or whether it was a customer or tesla employee demonstrating the system. a separate image posted by @nickhoward shows that neutral is engaged by a separate icon on the screen. drive, reverse and neutral can also be selected using a knob on the steering wheel, but there apparently a third method that truly next-level. according to musk, the cars can guess which way you want to go and select the direction of travel without any input at all the model s and x are also being advertised with a yoke-style steering wheel, but according to a redditor who claims to have been in the new model s, they are currently being shipped with a traditional round wheel until nhtsa approves the yoke, at which time owners will be able to get it retrofitted into their new cars. tesla has not officially confirmed the status of the wheel.',\n",
       " 'tesla cancels full self-driving expansion ahead of major update. tesla has canceled a planned expansion of its full self-driving beta software test ahead of a major update reportedly launching in april approximately 2,000 tesla owners have been given early access to the expanded functionality, which allows a vehicle to control itself on city streets with human supervision and is listed as version 8.2 of the software. in early march, tesla ceo elon musk said that a download button for version 8.3 would soon appear on the displays in certain cars, but he has apparently confirmed on twitter that the company will be skipping the upgrade in lieu of a version 9.0 coming in april. musk last week said that the upgrade would eliminate the need for the system to use radar and would rely solely on the eight cameras the cars are equipped with and artificial intelligence. most other automakers and technology companies developing autonomous driving systems use a combination of radar, camera and lidar sensors, the last of which tesla has called a fool errand anyone relying on lidar is doomed. doomed!, musk said during tesla autonomy day in 2019. it like having a whole bunch of expensive appendices. like, one appendix is bad, well now you have a whole bunch of them, it ridiculous, you l see various videos posted to social media by beta testers show very different sides of the full self-driving capability, with it operating almost flawlessly in some and making major mistakes in others. tesla electronic driver aids have come under increased scrutiny from the national highway traffic safety administration following numerous accidents that are being investigated to see if the autopilot or full self-driving systems were involved. last week, musk confirmed that several tesla owners had been removed from the beta test because it had been determined via an internal camera that they weren paying proper attention when using the full self-driving system.',\n",
       " 'tesla set on autopilot slams into michigan state police car. a tesla driver with a suspended license using his car autopilot feature slammed into a michigan state police car parked on the side of a highway early monday morning. the agency tweeted that the trooper was responding to an accident involving a car and a deer on i-96 in eaton county and had the patrol car emergency lights illuminated. the tesla model y struck the driver side rear corner of the police car damaging both vehicles. no one was injured in the incident, but the 22-year-old driver was cited with violating the state move over law and driving with a suspended license. autopilot is a system that is capable of steering a tesla within a highway lane while controlling its speed, according to the automaker. in detroit on monday, a tesla model y crashed into the trailer of a semi-truck in what was initially suspected to be another autopilot incident, but police later said they didn think the feature was being used, fox 2 wjbk reported. however, the detroit police and national highway traffic safety administration are continuing investigations into the accident to determine if the technology was involved.']"
      ]
     },
     "execution_count": 6,
     "metadata": {},
     "output_type": "execute_result"
    }
   ],
   "source": [
    "df.body.loc[0:2].tolist()"
   ]
  },
  {
   "cell_type": "code",
   "execution_count": null,
   "id": "77da5ee4",
   "metadata": {
    "tags": []
   },
   "outputs": [],
   "source": [
    "df = pd.read_json('foxnews_news_cleaned.json')\n",
    "model_name = 'google/pegasus-xsum'\n",
    "device = 'cuda' if torch.cuda.is_available() else 'cpu'\n",
    "\n",
    "tokenizer = PegasusTokenizer.from_pretrained(model_name)\n",
    "model = PegasusForConditionalGeneration.from_pretrained(model_name).to(device)\n",
    "\n",
    "# Generate in small batches else running out of memory on GTX 1080Ti :(\n",
    "summary = []\n",
    "chunkSize = 5\n",
    "with torch.no_grad():\n",
    "    for x in tqdm(range(0,df.shape[0], chunkSize), ncols=100):\n",
    "        textChunk = df.body.loc[x:x+chunkSize-1]\n",
    "        batch = tokenizer([f'\\\"{t}\\\"' for t in textChunk], truncation=True, padding='longest', return_tensors=\"pt\").to(device)\n",
    "        translated = model.generate(**batch)\n",
    "        summary.extend(tokenizer.batch_decode(translated, skip_special_tokens=True))\n",
    "df['summary'] = summary"
   ]
  },
  {
   "cell_type": "code",
   "execution_count": null,
   "id": "3753367f",
   "metadata": {
    "tags": []
   },
   "outputs": [],
   "source": [
    "# df = pd.read_json('foxnews_news_cleaned.json')\n",
    "# model_name = 'google/pegasus-xsum'\n",
    "# device = 'cuda' if torch.cuda.is_available() else 'cpu'\n",
    "\n",
    "# tokenizer = PegasusTokenizer.from_pretrained(model_name)\n",
    "# model = PegasusForConditionalGeneration.from_pretrained(model_name).to(device)\n",
    "# batch = tokenizer([df.body.loc[20]], truncation=True, padding='longest', return_tensors=\"pt\").to(device)\n",
    "# translated = model.generate(**batch)\n",
    "# tokenizer.batch_decode(translated, skip_special_tokens=True)"
   ]
  },
  {
   "cell_type": "code",
   "execution_count": null,
   "id": "8aa3e4c8",
   "metadata": {
    "tags": []
   },
   "outputs": [],
   "source": [
    "df.summary.value_counts().nlargest(2)"
   ]
  },
  {
   "cell_type": "code",
   "execution_count": null,
   "id": "f048361a",
   "metadata": {
    "tags": []
   },
   "outputs": [],
   "source": [
    "# Save the cleaned data\n",
    "parsed = json.loads(df.to_json(orient='records', force_ascii=False, indent=4))\n",
    "with open('foxnews_news_cleaned_summary.json', 'w', encoding='utf-8') as f:\n",
    "    json.dump(parsed, f, indent=4)"
   ]
  },
  {
   "cell_type": "code",
   "execution_count": null,
   "id": "f7f2f582",
   "metadata": {
    "tags": []
   },
   "outputs": [],
   "source": [
    "df = pd.read_json('foxnews_news_cleaned_summary.json')\n",
    "df"
   ]
  },
  {
   "cell_type": "code",
   "execution_count": null,
   "id": "e0249c60",
   "metadata": {
    "tags": []
   },
   "outputs": [],
   "source": [
    "a = df[df.summary == 'All images are copyrighted.']\n",
    "print(a)\n",
    "a.loc[20].body"
   ]
  },
  {
   "cell_type": "code",
   "execution_count": null,
   "id": "0a98f885",
   "metadata": {},
   "outputs": [],
   "source": [
    "# Split to training/test set\n",
    "df = pd.read_json('foxnews_news_cleaned_summary.json')\n",
    "df = df.loc[df['sentiment'] != 'NA', ['summary', 'sentiment']]\n",
    "label = {'neutral':0,'positive':1,'negative':2}\n",
    "df['labels'] = df['sentiment'].map(label)\n",
    "\n",
    "# Split the train/test set\n",
    "train, test = train_test_split(df[['summary', 'labels']], test_size=0.2, random_state=12, shuffle=True)\n",
    "train.columns = ['text','labels']\n",
    "test.columns = ['text','labels']\n",
    "train.to_csv('data/train.csv', sep=',', index=False)\n",
    "test.to_csv('data/test.csv', sep=',', index=False)"
   ]
  },
  {
   "cell_type": "code",
   "execution_count": null,
   "id": "f0382389",
   "metadata": {},
   "outputs": [],
   "source": []
  }
 ],
 "metadata": {
  "kernelspec": {
   "display_name": "Python 3",
   "language": "python",
   "name": "python3"
  },
  "language_info": {
   "codemirror_mode": {
    "name": "ipython",
    "version": 3
   },
   "file_extension": ".py",
   "mimetype": "text/x-python",
   "name": "python",
   "nbconvert_exporter": "python",
   "pygments_lexer": "ipython3",
   "version": "3.8.2"
  }
 },
 "nbformat": 4,
 "nbformat_minor": 5
}
