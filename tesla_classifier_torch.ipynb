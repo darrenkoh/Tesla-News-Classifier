{
 "cells": [
  {
   "cell_type": "code",
   "execution_count": 1,
   "metadata": {},
   "outputs": [],
   "source": [
    "import torch\n",
    "import pandas as pd\n",
    "from sklearn.model_selection import train_test_split\n",
    "from tqdm import tqdm_notebook\n",
    "from simpletransformers.classification import ClassificationModel, ClassificationArgs"
   ]
  },
  {
   "cell_type": "code",
   "execution_count": 2,
   "metadata": {},
   "outputs": [
    {
     "name": "stdout",
     "output_type": "stream",
     "text": [
      "1.8.0\n",
      "True\n"
     ]
    }
   ],
   "source": [
    "print(torch.__version__)\n",
    "print(torch.cuda.is_available())"
   ]
  },
  {
   "cell_type": "code",
   "execution_count": 3,
   "metadata": {},
   "outputs": [
    {
     "data": {
      "text/plain": [
       "0    197\n",
       "2     76\n",
       "1     55\n",
       "Name: labels, dtype: int64"
      ]
     },
     "execution_count": 3,
     "metadata": {},
     "output_type": "execute_result"
    }
   ],
   "source": [
    "datapath = 'data/'\n",
    "train_df = pd.read_csv(datapath + 'train.csv')\n",
    "train_df.head()\n",
    "train_df.labels.value_counts()"
   ]
  },
  {
   "cell_type": "code",
   "execution_count": 4,
   "metadata": {},
   "outputs": [
    {
     "data": {
      "text/plain": [
       "0    39\n",
       "1    22\n",
       "2    22\n",
       "Name: labels, dtype: int64"
      ]
     },
     "execution_count": 4,
     "metadata": {},
     "output_type": "execute_result"
    }
   ],
   "source": [
    "test_df = pd.read_csv(datapath + 'test.csv')\n",
    "test_df.head()\n",
    "test_df.labels.value_counts()"
   ]
  },
  {
   "cell_type": "code",
   "execution_count": null,
   "metadata": {
    "tags": []
   },
   "outputs": [],
   "source": [
    "# train_df = pd.DataFrame({\"text\": train_df[1].replace(r\"\\n\", \" \", regex=True), \"labels\": train_df[0]})\n",
    "# print(train_df.head())"
   ]
  },
  {
   "cell_type": "code",
   "execution_count": null,
   "metadata": {
    "tags": []
   },
   "outputs": [],
   "source": [
    "# test_df = pd.DataFrame({\"text\": test_df[1].replace(r\"\\n\", \" \", regex=True), \"labels\": test_df[0]})\n",
    "# print(test_df.head())"
   ]
  },
  {
   "cell_type": "code",
   "execution_count": 5,
   "metadata": {},
   "outputs": [],
   "source": [
    "# model_name = \"bert-base-cased\"\n",
    "# model_type = \"bert\"\n",
    "\n",
    "model_name = \"distilroberta-base\"\n",
    "model_type = \"roberta\"\n",
    "\n",
    "\n",
    "model_args = ClassificationArgs()\n",
    "#model_args.no_cache = True\n",
    "model_args.fp16 = True\n",
    "model_args.reprocess_input_data = True\n",
    "model_args.overwrite_output_dir = True\n",
    "model_args.output_dir = f\"outputs/{model_type}\"\n",
    "model_args.best_model_dir = f\"outputs/{model_type}/best_model\"\n",
    "model_args.evaluate_during_training = True\n",
    "#model_args.lazy_loading = True\n",
    "model_args.max_seq_length = 256\n",
    "model_args.sliding_window = True\n",
    "model_args.num_train_epochs = 12\n",
    "model_args.train_batch_size = 64\n",
    "model_args.eval_batch_size = 16"
   ]
  },
  {
   "cell_type": "code",
   "execution_count": null,
   "metadata": {},
   "outputs": [],
   "source": [
    "#test_df.text.map(lambda x: len(x.split(' '))).max()"
   ]
  },
  {
   "cell_type": "code",
   "execution_count": 6,
   "metadata": {
    "tags": []
   },
   "outputs": [
    {
     "name": "stderr",
     "output_type": "stream",
     "text": [
      "Some weights of the model checkpoint at distilroberta-base were not used when initializing RobertaForSequenceClassification: ['lm_head.bias', 'lm_head.dense.weight', 'lm_head.dense.bias', 'lm_head.layer_norm.weight', 'lm_head.layer_norm.bias', 'lm_head.decoder.weight']\n",
      "- This IS expected if you are initializing RobertaForSequenceClassification from the checkpoint of a model trained on another task or with another architecture (e.g. initializing a BertForSequenceClassification model from a BertForPreTraining model).\n",
      "- This IS NOT expected if you are initializing RobertaForSequenceClassification from the checkpoint of a model that you expect to be exactly identical (initializing a BertForSequenceClassification model from a BertForSequenceClassification model).\n",
      "Some weights of RobertaForSequenceClassification were not initialized from the model checkpoint at distilroberta-base and are newly initialized: ['classifier.dense.weight', 'classifier.dense.bias', 'classifier.out_proj.weight', 'classifier.out_proj.bias']\n",
      "You should probably TRAIN this model on a down-stream task to be able to use it for predictions and inference.\n"
     ]
    }
   ],
   "source": [
    "model = ClassificationModel(model_type, model_name, num_labels=3, weight=[2, 0.5, 1], args=model_args, use_cuda=True)"
   ]
  },
  {
   "cell_type": "code",
   "execution_count": 7,
   "metadata": {
    "scrolled": true
   },
   "outputs": [
    {
     "data": {
      "application/vnd.jupyter.widget-view+json": {
       "model_id": "54e80bf1ecf346979fd98a501a6ccdcb",
       "version_major": 2,
       "version_minor": 0
      },
      "text/plain": [
       "  0%|          | 0/328 [00:00<?, ?it/s]"
      ]
     },
     "metadata": {},
     "output_type": "display_data"
    },
    {
     "data": {
      "application/vnd.jupyter.widget-view+json": {
       "model_id": "e7f081bba15b4a01b5a30b0071af1bbf",
       "version_major": 2,
       "version_minor": 0
      },
      "text/plain": [
       "Epoch:   0%|          | 0/12 [00:00<?, ?it/s]"
      ]
     },
     "metadata": {},
     "output_type": "display_data"
    },
    {
     "data": {
      "application/vnd.jupyter.widget-view+json": {
       "model_id": "db6d2d45b3e74aea91e8884695306087",
       "version_major": 2,
       "version_minor": 0
      },
      "text/plain": [
       "Running Epoch 0 of 12:   0%|          | 0/15 [00:00<?, ?it/s]"
      ]
     },
     "metadata": {},
     "output_type": "display_data"
    },
    {
     "name": "stderr",
     "output_type": "stream",
     "text": [
      "C:\\Miniconda3\\envs\\tesla_classifier\\lib\\site-packages\\sklearn\\metrics\\_classification.py:870: RuntimeWarning: invalid value encountered in double_scalars\n",
      "  mcc = cov_ytyp / np.sqrt(cov_ytyt * cov_ypyp)\n"
     ]
    },
    {
     "data": {
      "application/vnd.jupyter.widget-view+json": {
       "model_id": "365a67b4ece64dce97c0485b0cd24427",
       "version_major": 2,
       "version_minor": 0
      },
      "text/plain": [
       "Running Epoch 1 of 12:   0%|          | 0/15 [00:00<?, ?it/s]"
      ]
     },
     "metadata": {},
     "output_type": "display_data"
    },
    {
     "data": {
      "application/vnd.jupyter.widget-view+json": {
       "model_id": "25542e32a22449639ffb33b3277df9a8",
       "version_major": 2,
       "version_minor": 0
      },
      "text/plain": [
       "Running Epoch 2 of 12:   0%|          | 0/15 [00:00<?, ?it/s]"
      ]
     },
     "metadata": {},
     "output_type": "display_data"
    },
    {
     "name": "stderr",
     "output_type": "stream",
     "text": [
      "C:\\Miniconda3\\envs\\tesla_classifier\\lib\\site-packages\\sklearn\\metrics\\_classification.py:870: RuntimeWarning: invalid value encountered in double_scalars\n",
      "  mcc = cov_ytyp / np.sqrt(cov_ytyt * cov_ypyp)\n"
     ]
    },
    {
     "data": {
      "application/vnd.jupyter.widget-view+json": {
       "model_id": "4152f7c3bc8e43608bb67986c67fb3af",
       "version_major": 2,
       "version_minor": 0
      },
      "text/plain": [
       "Running Epoch 3 of 12:   0%|          | 0/15 [00:00<?, ?it/s]"
      ]
     },
     "metadata": {},
     "output_type": "display_data"
    },
    {
     "data": {
      "application/vnd.jupyter.widget-view+json": {
       "model_id": "4289b82a8c5340a0b16171cbca58ff50",
       "version_major": 2,
       "version_minor": 0
      },
      "text/plain": [
       "Running Epoch 4 of 12:   0%|          | 0/15 [00:00<?, ?it/s]"
      ]
     },
     "metadata": {},
     "output_type": "display_data"
    },
    {
     "data": {
      "application/vnd.jupyter.widget-view+json": {
       "model_id": "9c546d646af44f5eb3a4f070c2d6e7ae",
       "version_major": 2,
       "version_minor": 0
      },
      "text/plain": [
       "Running Epoch 5 of 12:   0%|          | 0/15 [00:00<?, ?it/s]"
      ]
     },
     "metadata": {},
     "output_type": "display_data"
    },
    {
     "data": {
      "application/vnd.jupyter.widget-view+json": {
       "model_id": "5781cc07d425463fa0353133839f2ed5",
       "version_major": 2,
       "version_minor": 0
      },
      "text/plain": [
       "Running Epoch 6 of 12:   0%|          | 0/15 [00:00<?, ?it/s]"
      ]
     },
     "metadata": {},
     "output_type": "display_data"
    },
    {
     "data": {
      "application/vnd.jupyter.widget-view+json": {
       "model_id": "c0e7ab9c096e4d159016362de9fb762d",
       "version_major": 2,
       "version_minor": 0
      },
      "text/plain": [
       "Running Epoch 7 of 12:   0%|          | 0/15 [00:00<?, ?it/s]"
      ]
     },
     "metadata": {},
     "output_type": "display_data"
    },
    {
     "data": {
      "application/vnd.jupyter.widget-view+json": {
       "model_id": "4b646f304632459fb3df9946d4d77d2a",
       "version_major": 2,
       "version_minor": 0
      },
      "text/plain": [
       "Running Epoch 8 of 12:   0%|          | 0/15 [00:00<?, ?it/s]"
      ]
     },
     "metadata": {},
     "output_type": "display_data"
    },
    {
     "data": {
      "application/vnd.jupyter.widget-view+json": {
       "model_id": "2881ad4f99534756a7279d41d37d9485",
       "version_major": 2,
       "version_minor": 0
      },
      "text/plain": [
       "Running Epoch 9 of 12:   0%|          | 0/15 [00:00<?, ?it/s]"
      ]
     },
     "metadata": {},
     "output_type": "display_data"
    },
    {
     "data": {
      "application/vnd.jupyter.widget-view+json": {
       "model_id": "67f7f25f5ffb458eb0452d586b49c083",
       "version_major": 2,
       "version_minor": 0
      },
      "text/plain": [
       "Running Epoch 10 of 12:   0%|          | 0/15 [00:00<?, ?it/s]"
      ]
     },
     "metadata": {},
     "output_type": "display_data"
    },
    {
     "data": {
      "application/vnd.jupyter.widget-view+json": {
       "model_id": "fbdf98c743f34502968549bdca2d00a5",
       "version_major": 2,
       "version_minor": 0
      },
      "text/plain": [
       "Running Epoch 11 of 12:   0%|          | 0/15 [00:00<?, ?it/s]"
      ]
     },
     "metadata": {},
     "output_type": "display_data"
    },
    {
     "data": {
      "text/plain": [
       "(180,\n",
       " {'global_step': [15, 30, 45, 60, 75, 90, 105, 120, 135, 150, 165, 180],\n",
       "  'mcc': [0.0,\n",
       "   0.11772040233700277,\n",
       "   0.0,\n",
       "   0.22606301504027465,\n",
       "   0.16703176179554144,\n",
       "   0.14931821064526266,\n",
       "   0.26890726642491075,\n",
       "   0.25243403836040756,\n",
       "   0.2851596098255703,\n",
       "   0.20843919616099224,\n",
       "   0.25069865064023744,\n",
       "   0.30229952676940114],\n",
       "  'train_loss': [0.7609373331069946,\n",
       "   0.5971140265464783,\n",
       "   1.141303539276123,\n",
       "   0.41461166739463806,\n",
       "   0.31279030442237854,\n",
       "   0.4328804612159729,\n",
       "   0.0965457558631897,\n",
       "   0.41755539178848267,\n",
       "   0.07425758987665176,\n",
       "   0.2568410336971283,\n",
       "   0.18432246148586273,\n",
       "   0.39721521735191345],\n",
       "  'eval_loss': [0.9041745642820994,\n",
       "   0.8221643328666687,\n",
       "   0.8334376513957977,\n",
       "   0.8501727163791657,\n",
       "   0.8101803739865621,\n",
       "   0.9671204666296641,\n",
       "   0.8485099275906881,\n",
       "   0.9419613639513652,\n",
       "   1.0705350716908772,\n",
       "   1.0874882479508718,\n",
       "   1.085515554745992,\n",
       "   1.1058086355527241]})"
      ]
     },
     "execution_count": 7,
     "metadata": {},
     "output_type": "execute_result"
    }
   ],
   "source": [
    "model.train_model(train_df, eval_df=test_df)\n",
    "#model.train_model(datapath + 'train.csv', eval_df=datapath + 'test.csv')"
   ]
  },
  {
   "cell_type": "code",
   "execution_count": null,
   "metadata": {},
   "outputs": [],
   "source": [
    "preds, out = model.predict([\"spin? tesla website hid normal steering wheel option to bizarre yoke. tesla's newest model announcements may have come with a side of clickbait. when the updated model s and x were revealed last week, their standout feature was a yoke-style steering wheel bereft of control stalks. the unusual design had previously been shown on several tesla prototypes, but never used in a production model. needless to say, it got plenty of attention in the automotive press. tesla's website says it provides \\\"the ultimate focus on driving: no stalks, no shifting. model s is the best car to drive, and the best car do be driven in.\\\". elon musk elaborated that the cars can \\\"guess\\\" what direction you want to go and that the transmission selector has been moved to the central touchscreen display for when you absolutely need to use it. the vehicles are also offered with tesla's optional full self-driving capability, which currently delivers a certain level of active driving assistance, but will eventually be capable of full autonomy, according to musk. the \\\"wheel\\\" has garnered interest from the national highway traffic safety administration, which said it was reaching out to tesla for more information. 250 mph tesla roadster delayed to 2022. however, it may not be the only one available. by modifying the source code of an image of the interior from the tesla consumer website, automotive outlet the drive discovered that an alternate one was hidden on the website that depicted it with a traditional round wheel. (tesla). it still doesn't have any stalks and the buttons on the spokes, which apparently control the turn signals, horn and lights, appear the same as those on the yoke. following the reporting on its discovery, the image was completely deleted by tesla, which has not commented on its reveal. currently, there is no mention of a steering wheel on the reservation page, which advertises that the first deliveries will begin in march, although musk said production is already underway and that shipments will start in february.\"])\n",
    "print(preds)\n",
    "print(out)"
   ]
  },
  {
   "cell_type": "code",
   "execution_count": null,
   "metadata": {},
   "outputs": [],
   "source": [
    "train_df[:int(len(test_df)* 0.1)]"
   ]
  }
 ],
 "metadata": {
  "kernelspec": {
   "display_name": "Python 3",
   "language": "python",
   "name": "python3"
  },
  "language_info": {
   "codemirror_mode": {
    "name": "ipython",
    "version": 3
   },
   "file_extension": ".py",
   "mimetype": "text/x-python",
   "name": "python",
   "nbconvert_exporter": "python",
   "pygments_lexer": "ipython3",
   "version": "3.8.2"
  }
 },
 "nbformat": 4,
 "nbformat_minor": 5
}
