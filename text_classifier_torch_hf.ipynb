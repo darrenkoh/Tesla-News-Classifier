{
 "cells": [
  {
   "cell_type": "code",
   "execution_count": 4,
   "id": "d8e138c8-a4db-4cec-8482-4cf3f4df3130",
   "metadata": {},
   "outputs": [],
   "source": [
    "# Standard ML Libraries\n",
    "import pandas as pd\n",
    "import torch\n",
    "import transformers\n",
    "from torch.utils.data import Dataset, DataLoader\n",
    "from transformers import DistilBertModel, DistilBertTokenizer"
   ]
  },
  {
   "cell_type": "code",
   "execution_count": 5,
   "id": "188ccf3c-2b65-4872-841b-727280242cc2",
   "metadata": {},
   "outputs": [],
   "source": [
    "# Use Cuda\n",
    "device = 'cuda' if torch.cuda.is_available() else 'cpu'"
   ]
  },
  {
   "cell_type": "code",
   "execution_count": 11,
   "id": "39c8a86a-5c9f-4a58-8fbe-2071b56c6d04",
   "metadata": {
    "tags": []
   },
   "outputs": [
    {
     "name": "stdout",
     "output_type": "stream",
     "text": [
      "                                               title  \\\n",
      "0      ntsb to probe fiery tesla crash in california   \n",
      "1  tesla shuts down california and new york facto...   \n",
      "2  elon musk says saudi arabia's sovereign wealth...   \n",
      "3  tesla's musk says software changes could impro...   \n",
      "4  china tesla fire caused by faulty battery modu...   \n",
      "\n",
      "                                             summary sentiment  labels  \n",
      "0  A 38-year-old man from san mateo, california, ...   neutral       0  \n",
      "1  tesla will suspend most operations at its frem...  negative       2  \n",
      "2  saudi arabia sovereign wealth fund would be th...  positive       1  \n",
      "3   tesla has been working on changes to autopilo...   neutral       0  \n",
      "4  tesla has determined the cause of a dramatic f...  negative       2  \n",
      "                                               title  \\\n",
      "0  las vegas may gamble on elon musk's undergroun...   \n",
      "1  tesla's 'cyberpunk' pickup teased in shadowy i...   \n",
      "2                          tesla 'sold out' for 2012   \n",
      "3  elon musk says tesla cybertruck update 'probab...   \n",
      "4  tesla cancels full self-driving expansion ahea...   \n",
      "\n",
      "                                             sumamry sentiment  labels  \n",
      "0  Elon musk has been trying to build an express ...   neutral       0  \n",
      "1  Elon musk tweeted out a rendering of the cyber...   neutral       0  \n",
      "2  Tesla has 6,500 reservations for the all-elect...   neutral       0  \n",
      "3   tesla ceo elon musk tweeted over the weekend ...  positive       1  \n",
      "4  tesla has canceled a planned expansion of its ...  negative       2  \n"
     ]
    }
   ],
   "source": [
    "# Load training data\n",
    "train_df = pd.read_csv('data/train.csv')\n",
    "test_df = pd.read_csv('data/test.csv')\n",
    "print(train_df.head())\n",
    "print(test_df.head())"
   ]
  },
  {
   "cell_type": "code",
   "execution_count": null,
   "id": "291049b2-639b-4d67-b47a-d16f093e6610",
   "metadata": {},
   "outputs": [],
   "source": [
    "# Triage Dataset Class\n",
    "class Triage(Dataset):\n",
    "    def __init__(self, dataframe, tokenizer, max_length):\n",
    "        self.len = len(dataframe)\n",
    "        self.data = dataframe\n",
    "        self.tokenizer = tokenizer\n",
    "        self.max_length = max_length\n",
    "        \n",
    "    def __getitem__(self, index):\n",
    "        inputs = self.tokenizer.encode_plus(\n",
    "            self.data.title[index],\n",
    "            None,\n",
    "            add_special_tokens = True,\n",
    "            max_length = self.max_length.\n",
    "            pad_to_max_length = True,\n",
    "            return_token_type_ids = True,\n",
    "            truncation = True\n",
    "        )\n",
    "        return { \n",
    "            'ids': torch.tensor(ids, dtype=torch.long)\n",
    "        }"
   ]
  },
  {
   "cell_type": "code",
   "execution_count": 17,
   "id": "abd2a359-5da8-4290-914f-752351f62784",
   "metadata": {},
   "outputs": [
    {
     "data": {
      "text/plain": [
       "'A 38-year-old man from san mateo, california, was killed in the crash last week on u.s. 101 in silicon valley. The vehicle was traveling southbound at freeway speed when it hit a freeway barrier, causing a collision with two other cars whose drivers were not reported injured. for unknown reasons the tesla caught fire.'"
      ]
     },
     "execution_count": 17,
     "metadata": {},
     "output_type": "execute_result"
    }
   ],
   "source": [
    "str(train_df.summary[0])\n"
   ]
  },
  {
   "cell_type": "code",
   "execution_count": null,
   "id": "271611b9-f725-4890-8689-a2737fecc55f",
   "metadata": {},
   "outputs": [],
   "source": []
  }
 ],
 "metadata": {
  "kernelspec": {
   "display_name": "Python 3",
   "language": "python",
   "name": "python3"
  },
  "language_info": {
   "codemirror_mode": {
    "name": "ipython",
    "version": 3
   },
   "file_extension": ".py",
   "mimetype": "text/x-python",
   "name": "python",
   "nbconvert_exporter": "python",
   "pygments_lexer": "ipython3",
   "version": "3.8.2"
  }
 },
 "nbformat": 4,
 "nbformat_minor": 5
}
