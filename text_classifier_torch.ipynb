{
 "cells": [
  {
   "cell_type": "code",
   "execution_count": null,
   "id": "a42ffc42",
   "metadata": {},
   "outputs": [],
   "source": [
    "import torch\n",
    "import pandas as pd\n",
    "from sklearn.model_selection import train_test_split\n",
    "from tqdm import tqdm_notebook\n",
    "from simpletransformers.classification import ClassificationModel, ClassificationArgs"
   ]
  },
  {
   "cell_type": "code",
   "execution_count": null,
   "id": "eb67dda3",
   "metadata": {},
   "outputs": [],
   "source": [
    "datapath = 'data/'\n",
    "train_df = pd.read_csv(datapath + 'train.csv')\n",
    "test_df = pd.read_csv(datapath + 'test.csv')"
   ]
  },
  {
   "cell_type": "code",
   "execution_count": null,
   "id": "acdebb5a",
   "metadata": {},
   "outputs": [],
   "source": [
    "# model_name = \"bert-base-cased\"\n",
    "# model_type = \"bert\"\n",
    "\n",
    "model_name = \"distilroberta-base\"\n",
    "model_type = \"roberta\"\n",
    "\n",
    "model_args = ClassificationArgs()\n",
    "model_args.no_cache = True\n",
    "model_args.fp16 = True\n",
    "model_args.reprocess_input_data = True\n",
    "model_args.overwrite_output_dir = True\n",
    "model_args.output_dir = f\"outputs/{model_type}\"\n",
    "model_args.best_model_dir = f\"outputs/{model_type}/best_model\"\n",
    "model_args.evaluate_during_training = True\n",
    "#model_args.lazy_loading = True\n",
    "#model_args.sliding_window = True\n",
    "model_args.max_seq_length = 96\n",
    "model_args.num_train_epochs = 10\n",
    "model_args.train_batch_size = 64\n",
    "model_args.eval_batch_size = 32"
   ]
  },
  {
   "cell_type": "code",
   "execution_count": null,
   "id": "347c7061",
   "metadata": {
    "tags": []
   },
   "outputs": [],
   "source": [
    "#model = ClassificationModel(model_type, model_name, num_labels=3, weight=[2, 0.5, 1], args=model_args, use_cuda=True)\n",
    "model = ClassificationModel(model_type, model_name, num_labels=3, args=model_args, use_cuda=True)"
   ]
  },
  {
   "cell_type": "code",
   "execution_count": null,
   "id": "cbb096a6",
   "metadata": {
    "scrolled": true,
    "tags": []
   },
   "outputs": [],
   "source": [
    "model.train_model(train_df, eval_df=test_df)"
   ]
  },
  {
   "cell_type": "code",
   "execution_count": null,
   "id": "484e7bd2",
   "metadata": {
    "tags": []
   },
   "outputs": [],
   "source": [
    "preds, out = model.predict([\"spin? tesla website hid normal steering wheel option to bizarre yoke. tesla's newest model announcements may have come with a side of clickbait. when the updated model s and x were revealed last week, their standout feature was a yoke-style steering wheel bereft of control stalks. the unusual design had previously been shown on several tesla prototypes, but never used in a production model. needless to say, it got plenty of attention in the automotive press. tesla's website says it provides \\\"the ultimate focus on driving: no stalks, no shifting. model s is the best car to drive, and the best car do be driven in.\\\". elon musk elaborated that the cars can \\\"guess\\\" what direction you want to go and that the transmission selector has been moved to the central touchscreen display for when you absolutely need to use it. the vehicles are also offered with tesla's optional full self-driving capability, which currently delivers a certain level of active driving assistance, but will eventually be capable of full autonomy, according to musk. the \\\"wheel\\\" has garnered interest from the national highway traffic safety administration, which said it was reaching out to tesla for more information. 250 mph tesla roadster delayed to 2022. however, it may not be the only one available. by modifying the source code of an image of the interior from the tesla consumer website, automotive outlet the drive discovered that an alternate one was hidden on the website that depicted it with a traditional round wheel. (tesla). it still doesn't have any stalks and the buttons on the spokes, which apparently control the turn signals, horn and lights, appear the same as those on the yoke. following the reporting on its discovery, the image was completely deleted by tesla, which has not commented on its reveal. currently, there is no mention of a steering wheel on the reservation page, which advertises that the first deliveries will begin in march, although musk said production is already underway and that shipments will start in february.\"])\n",
    "print(preds)\n",
    "print(out)"
   ]
  },
  {
   "cell_type": "code",
   "execution_count": null,
   "id": "e5949452",
   "metadata": {},
   "outputs": [],
   "source": [
    "train_df.text.str.split(' ').str.len()"
   ]
  },
  {
   "cell_type": "code",
   "execution_count": null,
   "id": "11012a41",
   "metadata": {},
   "outputs": [],
   "source": []
  }
 ],
 "metadata": {
  "kernelspec": {
   "display_name": "Python 3",
   "language": "python",
   "name": "python3"
  },
  "language_info": {
   "codemirror_mode": {
    "name": "ipython",
    "version": 3
   },
   "file_extension": ".py",
   "mimetype": "text/x-python",
   "name": "python",
   "nbconvert_exporter": "python",
   "pygments_lexer": "ipython3",
   "version": "3.8.2"
  }
 },
 "nbformat": 4,
 "nbformat_minor": 5
}
